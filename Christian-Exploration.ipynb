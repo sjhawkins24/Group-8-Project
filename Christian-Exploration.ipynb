{
 "cells": [
  {
   "cell_type": "markdown",
   "id": "f06a6682",
   "metadata": {},
   "source": [
    "**Preparing dataframe for analysis:**\n",
    "- Goal: match the football rankings week-by-week data together by season, week, and team name. This will require (1) standardizing the team names and (2) standardizing the week names.\n",
    "\n",
    "**Errors**\n",
    "- Weeky by Week errors:\n",
    "    - Does Georgia Southern Eagles have a week by week ranking -- they don't appear in the week by week rankings. Seems like quite a few do not have an associated state. (e.g., only 85 teams)\n",
    "    - Purdue Boilermakers is not in the list\n",
    "- Negative issues\n",
    "    - Some weeks have negative values"
   ]
  },
  {
   "cell_type": "code",
   "execution_count": 30,
   "id": "c57f8cfa",
   "metadata": {},
   "outputs": [
    {
     "name": "stdout",
     "output_type": "stream",
     "text": [
      "There are 2 errors\n"
     ]
    }
   ],
   "source": [
    "import pandas as pd\n",
    "import seaborn as sn\n",
    "\n",
    "df_football = pd.read_csv('CollegeFootballRankings24to20.csv')\n",
    "df_rankings = pd.read_csv('WeekByWeekRankings2020to2025.csv')\n",
    "df_teams = pd.read_csv('2025 Teams.csv')\n",
    "\n",
    "# Update Week Dataframe\n",
    "df_rankings_cleaned = pd.merge(df_rankings, df_teams, how=\"left\", on=\"Team\")\n",
    "print(f\"There are {df_rankings_cleaned['team_and_mascot'].isnull().sum()} errors\")\n",
    "df_rankings_cleaned = df_rankings_cleaned.rename(columns={\"year\": \"season\", \"Team\":\"state\",\"Week\" : \"week\",\"team_and_mascot\" : \"team\"}) # Renamed\n",
    "df_football = df_football.rename(columns={\"Team\" : \"team\"})\n",
    "df_rankings_cleaned.to_csv(\"WeekbyWeekRankingsUpdated.csv\")\n",
    "\n",
    "# Merge the final Dataframe\n",
    "df_analyze = pd.merge(df_football, df_rankings_cleaned, how = \"left\", on=[\"team\",\"season\",\"week\"])\n",
    "df_analyze.to_csv(\"Cleaned_Dataset.csv\")\n",
    "\n",
    "\n"
   ]
  }
 ],
 "metadata": {
  "kernelspec": {
   "display_name": "base",
   "language": "python",
   "name": "python3"
  },
  "language_info": {
   "codemirror_mode": {
    "name": "ipython",
    "version": 3
   },
   "file_extension": ".py",
   "mimetype": "text/x-python",
   "name": "python",
   "nbconvert_exporter": "python",
   "pygments_lexer": "ipython3",
   "version": "3.11.13"
  }
 },
 "nbformat": 4,
 "nbformat_minor": 5
}
