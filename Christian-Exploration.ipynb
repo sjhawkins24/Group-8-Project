{
 "cells": [
  {
   "cell_type": "markdown",
   "id": "f06a6682",
   "metadata": {},
   "source": [
    "Preparing dataframe for analysis:"
   ]
  },
  {
   "cell_type": "code",
   "execution_count": null,
   "id": "c57f8cfa",
   "metadata": {},
   "outputs": [
    {
     "name": "stdout",
     "output_type": "stream",
     "text": [
      "<class 'pandas.core.frame.DataFrame'>\n",
      "RangeIndex: 1975 entries, 0 to 1974\n",
      "Data columns (total 4 columns):\n",
      " #   Column   Non-Null Count  Dtype \n",
      "---  ------   --------------  ----- \n",
      " 0   AP_rank  1975 non-null   int64 \n",
      " 1   Team     1975 non-null   object\n",
      " 2   Week     1975 non-null   int64 \n",
      " 3   year     1975 non-null   int64 \n",
      "dtypes: int64(3), object(1)\n",
      "memory usage: 61.8+ KB\n",
      "Empty DataFrame\n",
      "Columns: [Team, date, opponent, win_loss, pass, rush, rec, points_allowed, points_scored, point_differential, home_game, season, CONF, SOR, FPI, AP/CFP, SOS, GC, AVGWP, week_number]\n",
      "Index: []\n"
     ]
    },
    {
     "name": "stderr",
     "output_type": "stream",
     "text": [
      "C:\\Users\\martchfr\\AppData\\Local\\Temp\\1\\ipykernel_23588\\1110949815.py:8: SettingWithCopyWarning: \n",
      "A value is trying to be set on a copy of a slice from a DataFrame.\n",
      "Try using .loc[row_indexer,col_indexer] = value instead\n",
      "\n",
      "See the caveats in the documentation: https://pandas.pydata.org/pandas-docs/stable/user_guide/indexing.html#returning-a-view-versus-a-copy\n",
      "  df_fbwk['date_key'] = df_fbwk['date'].astype(str) + ', '+ df_fbwk['season'].astype(str)\n",
      "C:\\Users\\martchfr\\AppData\\Local\\Temp\\1\\ipykernel_23588\\1110949815.py:9: SettingWithCopyWarning: \n",
      "A value is trying to be set on a copy of a slice from a DataFrame.\n",
      "Try using .loc[row_indexer,col_indexer] = value instead\n",
      "\n",
      "See the caveats in the documentation: https://pandas.pydata.org/pandas-docs/stable/user_guide/indexing.html#returning-a-view-versus-a-copy\n",
      "  df_fbwk['date_key'] = pd.to_datetime(df_fbwk['date_key'])\n",
      "C:\\Users\\martchfr\\AppData\\Local\\Temp\\1\\ipykernel_23588\\1110949815.py:10: SettingWithCopyWarning: \n",
      "A value is trying to be set on a copy of a slice from a DataFrame\n",
      "\n",
      "See the caveats in the documentation: https://pandas.pydata.org/pandas-docs/stable/user_guide/indexing.html#returning-a-view-versus-a-copy\n",
      "  df_fbwk.drop_duplicates(inplace=True)\n"
     ]
    }
   ],
   "source": [
    "import pandas as pd\n",
    "\n",
    "df_fb = pd.read_csv('CollegeFootballRankings24to20.csv') # Football dataframe\n",
    "df_wk = pd.read_csv('WeekbyWeekRankings2020to2025.csv') # AP ek rankings dataframe\n",
    "\n",
    "# Create Unique Date Key based on all games played from 2020 to 2024\n",
    "df_fbwk = df_fb[['season','date']]\n",
    "df_fbwk['date_key'] = df_fbwk['date'].astype(str) + ', '+ df_fbwk['season'].astype(str)\n",
    "df_fbwk['date_key'] = pd.to_datetime(df_fbwk['date_key'])\n",
    "df_fbwk.drop_duplicates(inplace=True)\n",
    "df_fbwk = df_fbwk.sort_values(by='date_key', ascending=True)\n",
    "#print(df_fbwk)\n",
    "\n",
    "# Find the corresponding week number sequence for each date_key within each Season\n",
    "df_ss = df_fbwk.groupby('season', as_index=False)['date_key'].min() # Find season start date\n",
    "df_fbwk = pd.merge(df_fbwk, df_ss, on=['season'], how='left', suffixes=('','_season_start'))\n",
    "df_fbwk['days_from_start'] = (df_fbwk['date_key'] - df_fbwk['date_key_season_start']).dt.days\n",
    "df_fbwk['week_number'] = (df_fbwk['days_from_start'] // 7) + 1\n",
    "#df_fbwk.head()\n",
    "\n",
    "# Merge week number into the Football dataframe\n",
    "df_fb['date'] = pd.to_datetime(df_fb['date'].astype(str) + ', ' + df_fb['season'].astype(str))\n",
    "\n",
    "df_fbdata = pd.merge(\n",
    "    df_fb,\n",
    "    df_fbwk[['season','date_key','week_number']],\n",
    "    left_on=['season','date'],\n",
    "    right_on=['season','date_key'],\n",
    "    how='left'\n",
    ").drop(columns=['date_key'])\n",
    "\n",
    "# Merge AP Week Rankings into the Football dataframe\n",
    "df_fbdatafinal = pd.merge(\n",
    "    df_fbdata,\n",
    "    df_wk,\n",
    "    left_on=['Team','season','week_number'],\n",
    "    right_on=['Team','year','Week'],\n",
    "    how='left'\n",
    ")\n",
    "df_wk.info()\n",
    "# For Model Building, I would need scikit-learn, xgboost, tensorflow\n",
    "\n",
    "df_fbdata['season'] = df_fbdata['season'].astype(int)\n",
    "df_fbdata['week_number'] = df_fbdata['week_number'].astype(int)\n",
    "df_wk['year'] = df_wk['year'].astype(int)\n",
    "df_wk['Week'] = df_wk['Week'].astype(int)\n",
    "df_wk\n",
    "\n",
    "team_check = \"Alabama\"\n",
    "# Questions --> Do we need to adjust all week AP rankings to reflect the final ranking of the previous / upcoming week? Do Team Names match as well?"
   ]
  }
 ],
 "metadata": {
  "kernelspec": {
   "display_name": "base",
   "language": "python",
   "name": "python3"
  },
  "language_info": {
   "codemirror_mode": {
    "name": "ipython",
    "version": 3
   },
   "file_extension": ".py",
   "mimetype": "text/x-python",
   "name": "python",
   "nbconvert_exporter": "python",
   "pygments_lexer": "ipython3",
   "version": "3.13.5"
  }
 },
 "nbformat": 4,
 "nbformat_minor": 5
}
