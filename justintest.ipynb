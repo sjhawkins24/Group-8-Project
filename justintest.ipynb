{
 "cells": [
  {
   "cell_type": "code",
   "execution_count": null,
   "id": "86dea697",
   "metadata": {},
   "outputs": [],
   "source": [
    "# Test - Does my git hub work? Can I push this?"
   ]
  }
 ],
 "metadata": {
  "language_info": {
   "name": "python"
  }
 },
 "nbformat": 4,
 "nbformat_minor": 5
}
