{
 "cells": [
  {
   "cell_type": "code",
   "execution_count": 1,
   "id": "d7530c7b",
   "metadata": {},
   "outputs": [],
   "source": [
    "import pandas as pd\n",
    "import numpy as np\n",
    "pd.set_option('display.max_rows', None)"
   ]
  },
  {
   "cell_type": "code",
   "execution_count": 2,
   "id": "b6c89319",
   "metadata": {},
   "outputs": [],
   "source": [
    "df = pd.read_csv('CollegeFootballRankings2025.csv')\n",
    "# df"
   ]
  },
  {
   "cell_type": "code",
   "execution_count": 3,
   "id": "4e615015",
   "metadata": {},
   "outputs": [
    {
     "data": {
      "text/plain": [
       "np.int64(0)"
      ]
     },
     "execution_count": 3,
     "metadata": {},
     "output_type": "execute_result"
    }
   ],
   "source": [
    "df['Team'].isna().sum()"
   ]
  },
  {
   "cell_type": "code",
   "execution_count": 4,
   "id": "8de83f2c",
   "metadata": {},
   "outputs": [
    {
     "data": {
      "text/plain": [
       "Team\n",
       "Florida Gators                    13\n",
       "Georgia Bulldogs                  13\n",
       "Pittsburgh Panthers               13\n",
       "Texas A&M Aggies                  13\n",
       "California Golden Bears           13\n",
       "Auburn Tigers                     13\n",
       "Air Force Falcons                 12\n",
       "Akron Zips                        12\n",
       "Arkansas State Red Wolves         12\n",
       "Arkansas Razorbacks               12\n",
       "Arizona Wildcats                  12\n",
       "Arizona State Sun Devils          12\n",
       "App State Mountaineers            12\n",
       "Alabama Crimson Tide              12\n",
       "Boise State Broncos               12\n",
       "Boston College Eagles             12\n",
       "Buffalo Bulls                     12\n",
       "BYU Cougars                       12\n",
       "Central Michigan Chippewas        12\n",
       "Charlotte 49ers                   12\n",
       "Cincinnati Bearcats               12\n",
       "Clemson Tigers                    12\n",
       "Ball State Cardinals              12\n",
       "Army Black Knights                12\n",
       "Colorado Buffaloes                12\n",
       "Coastal Carolina Chanticleers     12\n",
       "Duke Blue Devils                  12\n",
       "Colorado State Rams               12\n",
       "East Carolina Pirates             12\n",
       "Eastern Michigan Eagles           12\n",
       "Florida Atlantic Owls             12\n",
       "Delaware Blue Hens                12\n",
       "Florida International Panthers    12\n",
       "Florida State Seminoles           12\n",
       "Fresno State Bulldogs             12\n",
       "Georgia Southern Eagles           12\n",
       "Georgia State Panthers            12\n",
       "Georgia Tech Yellow Jackets       12\n",
       "Bowling Green Falcons             12\n",
       "Baylor Bears                      12\n",
       "Illinois Fighting Illini          12\n",
       "Indiana Hoosiers                  12\n",
       "Iowa Hawkeyes                     12\n",
       "Iowa State Cyclones               12\n",
       "Jacksonville State Gamecocks      12\n",
       "James Madison Dukes               12\n",
       "Kansas Jayhawks                   12\n",
       "Kansas State Wildcats             12\n",
       "Kennesaw State Owls               12\n",
       "Kent State Golden Flashes         12\n",
       "Kentucky Wildcats                 12\n",
       "Liberty Flames                    12\n",
       "Louisiana Ragin' Cajuns           12\n",
       "Louisiana Tech Bulldogs           12\n",
       "Louisville Cardinals              12\n",
       "LSU Tigers                        12\n",
       "Marshall Thundering Herd          12\n",
       "Maryland Terrapins                12\n",
       "Massachusetts Minutemen           12\n",
       "Memphis Tigers                    12\n",
       "Miami (OH) RedHawks               12\n",
       "Miami Hurricanes                  12\n",
       "Michigan State Spartans           12\n",
       "Michigan Wolverines               12\n",
       "Middle Tennessee Blue Raiders     12\n",
       "Minnesota Golden Gophers          12\n",
       "Mississippi State Bulldogs        12\n",
       "Missouri State Bears              12\n",
       "Missouri Tigers                   12\n",
       "Navy Midshipmen                   12\n",
       "Hawai'i Rainbow Warriors          12\n",
       "Houston Cougars                   12\n",
       "Nebraska Cornhuskers              12\n",
       "NC State Wolfpack                 12\n",
       "New Mexico State Aggies           12\n",
       "Nevada Wolf Pack                  12\n",
       "North Texas Mean Green            12\n",
       "Northern Illinois Huskies         12\n",
       "Northwestern Wildcats             12\n",
       "New Mexico Lobos                  12\n",
       "Ohio Bobcats                      12\n",
       "Ohio State Buckeyes               12\n",
       "Oklahoma Sooners                  12\n",
       "Oklahoma State Cowboys            12\n",
       "Old Dominion Monarchs             12\n",
       "Ole Miss Rebels                   12\n",
       "Oregon Ducks                      12\n",
       "North Carolina Tar Heels          12\n",
       "Oregon State Beavers              12\n",
       "Penn State Nittany Lions          12\n",
       "Purdue Boilermakers               12\n",
       "Rice Owls                         12\n",
       "Rutgers Scarlet Knights           12\n",
       "Sam Houston Bearkats              12\n",
       "San Diego State Aztecs            12\n",
       "San José State Spartans           12\n",
       "SMU Mustangs                      12\n",
       "South Alabama Jaguars             12\n",
       "South Carolina Gamecocks          12\n",
       "South Florida Bulls               12\n",
       "Southern Miss Golden Eagles       12\n",
       "Stanford Cardinal                 12\n",
       "Syracuse Orange                   12\n",
       "Notre Dame Fighting Irish         12\n",
       "TCU Horned Frogs                  12\n",
       "Temple Owls                       12\n",
       "Tennessee Volunteers              12\n",
       "Texas Longhorns                   12\n",
       "Texas State Bobcats               12\n",
       "Texas Tech Red Raiders            12\n",
       "Toledo Rockets                    12\n",
       "Troy Trojans                      12\n",
       "Tulane Green Wave                 12\n",
       "Tulsa Golden Hurricane            12\n",
       "UAB Blazers                       12\n",
       "UCF Knights                       12\n",
       "UCLA Bruins                       12\n",
       "UConn Huskies                     12\n",
       "UL Monroe Warhawks                12\n",
       "UNLV Rebels                       12\n",
       "USC Trojans                       12\n",
       "Utah State Aggies                 12\n",
       "Utah Utes                         12\n",
       "UTEP Miners                       12\n",
       "UTSA Roadrunners                  12\n",
       "Vanderbilt Commodores             12\n",
       "Virginia Cavaliers                12\n",
       "Virginia Tech Hokies              12\n",
       "Wake Forest Demon Deacons         12\n",
       "Washington Huskies                12\n",
       "Washington State Cougars          12\n",
       "West Virginia Mountaineers        12\n",
       "Western Kentucky Hilltoppers      12\n",
       "Western Michigan Broncos          12\n",
       "Wisconsin Badgers                 12\n",
       "Wyoming Cowboys                   12\n",
       "Name: count, dtype: int64"
      ]
     },
     "execution_count": 4,
     "metadata": {},
     "output_type": "execute_result"
    }
   ],
   "source": [
    "df['Team'].value_counts()"
   ]
  },
  {
   "cell_type": "code",
   "execution_count": 5,
   "id": "ce496ed8",
   "metadata": {},
   "outputs": [
    {
     "data": {
      "text/plain": [
       "['Air Force Falcons',\n",
       " 'Akron Zips',\n",
       " 'Alabama Crimson Tide',\n",
       " 'App State Mountaineers',\n",
       " 'Arizona State Sun Devils',\n",
       " 'Arizona Wildcats',\n",
       " 'Arkansas Razorbacks',\n",
       " 'Arkansas State Red Wolves',\n",
       " 'Army Black Knights',\n",
       " 'Auburn Tigers',\n",
       " 'BYU Cougars',\n",
       " 'Ball State Cardinals',\n",
       " 'Baylor Bears',\n",
       " 'Boise State Broncos',\n",
       " 'Boston College Eagles',\n",
       " 'Bowling Green Falcons',\n",
       " 'Buffalo Bulls',\n",
       " 'California Golden Bears',\n",
       " 'Central Michigan Chippewas',\n",
       " 'Charlotte 49ers',\n",
       " 'Cincinnati Bearcats',\n",
       " 'Clemson Tigers',\n",
       " 'Coastal Carolina Chanticleers',\n",
       " 'Colorado Buffaloes',\n",
       " 'Colorado State Rams',\n",
       " 'Delaware Blue Hens',\n",
       " 'Duke Blue Devils',\n",
       " 'East Carolina Pirates',\n",
       " 'Eastern Michigan Eagles',\n",
       " 'Florida Atlantic Owls',\n",
       " 'Florida Gators',\n",
       " 'Florida International Panthers',\n",
       " 'Florida State Seminoles',\n",
       " 'Fresno State Bulldogs',\n",
       " 'Georgia Bulldogs',\n",
       " 'Georgia Southern Eagles',\n",
       " 'Georgia State Panthers',\n",
       " 'Georgia Tech Yellow Jackets',\n",
       " \"Hawai'i Rainbow Warriors\",\n",
       " 'Houston Cougars',\n",
       " 'Illinois Fighting Illini',\n",
       " 'Indiana Hoosiers',\n",
       " 'Iowa Hawkeyes',\n",
       " 'Iowa State Cyclones',\n",
       " 'Jacksonville State Gamecocks',\n",
       " 'James Madison Dukes',\n",
       " 'Kansas Jayhawks',\n",
       " 'Kansas State Wildcats',\n",
       " 'Kennesaw State Owls',\n",
       " 'Kent State Golden Flashes',\n",
       " 'Kentucky Wildcats',\n",
       " 'LSU Tigers',\n",
       " 'Liberty Flames',\n",
       " \"Louisiana Ragin' Cajuns\",\n",
       " 'Louisiana Tech Bulldogs',\n",
       " 'Louisville Cardinals',\n",
       " 'Marshall Thundering Herd',\n",
       " 'Maryland Terrapins',\n",
       " 'Massachusetts Minutemen',\n",
       " 'Memphis Tigers',\n",
       " 'Miami (OH) RedHawks',\n",
       " 'Miami Hurricanes',\n",
       " 'Michigan State Spartans',\n",
       " 'Michigan Wolverines',\n",
       " 'Middle Tennessee Blue Raiders',\n",
       " 'Minnesota Golden Gophers',\n",
       " 'Mississippi State Bulldogs',\n",
       " 'Missouri State Bears',\n",
       " 'Missouri Tigers',\n",
       " 'NC State Wolfpack',\n",
       " 'Navy Midshipmen',\n",
       " 'Nebraska Cornhuskers',\n",
       " 'Nevada Wolf Pack',\n",
       " 'New Mexico Lobos',\n",
       " 'New Mexico State Aggies',\n",
       " 'North Carolina Tar Heels',\n",
       " 'North Texas Mean Green',\n",
       " 'Northern Illinois Huskies',\n",
       " 'Northwestern Wildcats',\n",
       " 'Notre Dame Fighting Irish',\n",
       " 'Ohio Bobcats',\n",
       " 'Ohio State Buckeyes',\n",
       " 'Oklahoma Sooners',\n",
       " 'Oklahoma State Cowboys',\n",
       " 'Old Dominion Monarchs',\n",
       " 'Ole Miss Rebels',\n",
       " 'Oregon Ducks',\n",
       " 'Oregon State Beavers',\n",
       " 'Penn State Nittany Lions',\n",
       " 'Pittsburgh Panthers',\n",
       " 'Purdue Boilermakers',\n",
       " 'Rice Owls',\n",
       " 'Rutgers Scarlet Knights',\n",
       " 'SMU Mustangs',\n",
       " 'Sam Houston Bearkats',\n",
       " 'San Diego State Aztecs',\n",
       " 'San José State Spartans',\n",
       " 'South Alabama Jaguars',\n",
       " 'South Carolina Gamecocks',\n",
       " 'South Florida Bulls',\n",
       " 'Southern Miss Golden Eagles',\n",
       " 'Stanford Cardinal',\n",
       " 'Syracuse Orange',\n",
       " 'TCU Horned Frogs',\n",
       " 'Temple Owls',\n",
       " 'Tennessee Volunteers',\n",
       " 'Texas A&M Aggies',\n",
       " 'Texas Longhorns',\n",
       " 'Texas State Bobcats',\n",
       " 'Texas Tech Red Raiders',\n",
       " 'Toledo Rockets',\n",
       " 'Troy Trojans',\n",
       " 'Tulane Green Wave',\n",
       " 'Tulsa Golden Hurricane',\n",
       " 'UAB Blazers',\n",
       " 'UCF Knights',\n",
       " 'UCLA Bruins',\n",
       " 'UConn Huskies',\n",
       " 'UL Monroe Warhawks',\n",
       " 'UNLV Rebels',\n",
       " 'USC Trojans',\n",
       " 'UTEP Miners',\n",
       " 'UTSA Roadrunners',\n",
       " 'Utah State Aggies',\n",
       " 'Utah Utes',\n",
       " 'Vanderbilt Commodores',\n",
       " 'Virginia Cavaliers',\n",
       " 'Virginia Tech Hokies',\n",
       " 'Wake Forest Demon Deacons',\n",
       " 'Washington Huskies',\n",
       " 'Washington State Cougars',\n",
       " 'West Virginia Mountaineers',\n",
       " 'Western Kentucky Hilltoppers',\n",
       " 'Western Michigan Broncos',\n",
       " 'Wisconsin Badgers',\n",
       " 'Wyoming Cowboys']"
      ]
     },
     "execution_count": 5,
     "metadata": {},
     "output_type": "execute_result"
    }
   ],
   "source": [
    "unique_team = df['Team'].unique()\n",
    "unique_team = sorted(unique_team)\n",
    "unique_team"
   ]
  },
  {
   "cell_type": "code",
   "execution_count": 6,
   "id": "f1126c26",
   "metadata": {},
   "outputs": [
    {
     "data": {
      "text/plain": [
       "np.int64(0)"
      ]
     },
     "execution_count": 6,
     "metadata": {},
     "output_type": "execute_result"
    }
   ],
   "source": [
    "df['date'].isna().sum()"
   ]
  },
  {
   "cell_type": "code",
   "execution_count": 8,
   "id": "cb193fd0",
   "metadata": {},
   "outputs": [
    {
     "data": {
      "text/plain": [
       "array(['Sat, Aug 30', 'Sat, Sep 13', 'Sat, Sep 20', 'Sat, Sep 27',\n",
       "       'Sat, Oct 4', 'Sat, Oct 11', 'Sat, Oct 18', 'Sat, Nov 1',\n",
       "       'Sat, Nov 15', 'Sat, Nov 22', 'Fri, Nov 28', 'Thu, Aug 28',\n",
       "       'Sat, Sep 6', 'Tue, Nov 4', 'Tue, Nov 11', 'Tue, Nov 18',\n",
       "       'Fri, Aug 29', 'Thu, Nov 6', 'Fri, Sep 26', 'Fri, Sep 12',\n",
       "       'Tue, Oct 14', 'Sat, Oct 25', 'Thu, Nov 20', 'Thu, Sep 25',\n",
       "       'Sat, Nov 8', 'Sat, Dec 13', 'Fri, Sep 5', 'Fri, Oct 24',\n",
       "       'Wed, Nov 12', 'Wed, Nov 19', 'Fri, Oct 3', 'Fri, Oct 17',\n",
       "       'Thu, Sep 18', 'Fri, Nov 14', 'Sat, Nov 29', 'Thu, Oct 30',\n",
       "       'Fri, Oct 10', 'Wed, Oct 15', 'Wed, Oct 22', 'Thu, Oct 9',\n",
       "       'Thu, Oct 16', 'Tue, Oct 21', 'Wed, Oct 29', 'Fri, Nov 21',\n",
       "       'Sat, Aug 23', 'Thu, Oct 23', 'Fri, Sep 19', 'Tue, Oct 28',\n",
       "       'Wed, Oct 8', 'Fri, Oct 31', 'Fri, Nov 7', 'Thu, Nov 27',\n",
       "       'Sun, Aug 31', 'Thu, Sep 11', 'Thu, Oct 2', 'Mon, Sep 1',\n",
       "       'Thu, Nov 13', 'Wed, Nov 5', 'Tue, Nov 25'], dtype=object)"
      ]
     },
     "execution_count": 8,
     "metadata": {},
     "output_type": "execute_result"
    }
   ],
   "source": [
    "df['date'].unique()"
   ]
  },
  {
   "cell_type": "code",
   "execution_count": 9,
   "id": "1b8f4f6d",
   "metadata": {},
   "outputs": [
    {
     "data": {
      "text/plain": [
       "date\n",
       "Sat, Sep 6     127\n",
       "Sat, Nov 22    109\n",
       "Sat, Sep 13    107\n",
       "Sat, Sep 20    105\n",
       "Sat, Nov 29    102\n",
       "Sat, Nov 15    101\n",
       "Sat, Oct 11     99\n",
       "Sat, Oct 18     99\n",
       "Sat, Sep 27     96\n",
       "Sat, Oct 25     90\n",
       "Sat, Oct 4      89\n",
       "Sat, Nov 8      86\n",
       "Sat, Nov 1      86\n",
       "Sat, Aug 30     86\n",
       "Fri, Nov 28     26\n",
       "Thu, Aug 28     24\n",
       "Fri, Aug 29     19\n",
       "Fri, Oct 3      10\n",
       "Sat, Aug 23      9\n",
       "Fri, Oct 17      8\n",
       "Fri, Sep 12      8\n",
       "Thu, Oct 9       8\n",
       "Fri, Oct 24      7\n",
       "Fri, Sep 5       6\n",
       "Tue, Oct 14      6\n",
       "Fri, Sep 26      6\n",
       "Tue, Nov 18      6\n",
       "Fri, Nov 7       6\n",
       "Fri, Oct 31      6\n",
       "Fri, Oct 10      6\n",
       "Wed, Nov 12      6\n",
       "Tue, Nov 11      4\n",
       "Tue, Nov 4       4\n",
       "Tue, Oct 21      4\n",
       "Thu, Nov 6       4\n",
       "Wed, Nov 5       4\n",
       "Tue, Oct 28      4\n",
       "Wed, Oct 22      4\n",
       "Thu, Oct 30      4\n",
       "Wed, Oct 29      4\n",
       "Fri, Nov 14      4\n",
       "Wed, Oct 15      4\n",
       "Wed, Nov 19      4\n",
       "Wed, Oct 8       4\n",
       "Sun, Aug 31      4\n",
       "Tue, Nov 25      4\n",
       "Fri, Sep 19      4\n",
       "Fri, Nov 21      3\n",
       "Sat, Dec 13      2\n",
       "Thu, Nov 20      2\n",
       "Thu, Sep 25      2\n",
       "Thu, Oct 16      2\n",
       "Thu, Sep 18      2\n",
       "Thu, Oct 23      2\n",
       "Thu, Nov 27      2\n",
       "Thu, Oct 2       2\n",
       "Thu, Sep 11      2\n",
       "Thu, Nov 13      2\n",
       "Mon, Sep 1       2\n",
       "Name: count, dtype: int64"
      ]
     },
     "execution_count": 9,
     "metadata": {},
     "output_type": "execute_result"
    }
   ],
   "source": [
    "df['date'].value_counts()"
   ]
  },
  {
   "cell_type": "code",
   "execution_count": 10,
   "id": "ea5bbca7",
   "metadata": {},
   "outputs": [
    {
     "data": {
      "text/plain": [
       "np.int64(0)"
      ]
     },
     "execution_count": 10,
     "metadata": {},
     "output_type": "execute_result"
    }
   ],
   "source": [
    "df['opponent'].isna().sum()"
   ]
  },
  {
   "cell_type": "code",
   "execution_count": 11,
   "id": "28e99d75",
   "metadata": {},
   "outputs": [
    {
     "data": {
      "text/plain": [
       "opponent\n",
       "Abilene Christian            2\n",
       "Air Force                   11\n",
       "Akron                       11\n",
       "Alabama                     11\n",
       "Alabama A&M                  1\n",
       "Alabama State                1\n",
       "Alcorn State                 1\n",
       "App State                   11\n",
       "Arizona                     11\n",
       "Arizona State               11\n",
       "Arkansas                    11\n",
       "Arkansas State              11\n",
       "Arkansas-Pine Bluff          1\n",
       "Army                        11\n",
       "Auburn                      12\n",
       "Austin Peay                  2\n",
       "BYU                         11\n",
       "Ball State                  11\n",
       "Baylor                      11\n",
       "Bethune-Cookman              2\n",
       "Boise State                 11\n",
       "Boston College              11\n",
       "Bowling Green               11\n",
       "Bryant                       2\n",
       "Bucknell                     1\n",
       "Buffalo                     11\n",
       "Cal Poly                     1\n",
       "California                  11\n",
       "Campbell                     1\n",
       "Central Arkansas             1\n",
       "Central Connecticut          1\n",
       "Central Michigan            11\n",
       "Charleston Southern          2\n",
       "Charlotte                   11\n",
       "Chattanooga                  1\n",
       "Cincinnati                  11\n",
       "Clemson                     11\n",
       "Coastal Carolina            11\n",
       "Colgate                      1\n",
       "Colorado                    12\n",
       "Colorado State              11\n",
       "Delaware                    12\n",
       "Delaware State               1\n",
       "Duke                        11\n",
       "Duquesne                     2\n",
       "East Carolina               10\n",
       "East Tennessee State         1\n",
       "East Texas A&M               2\n",
       "Eastern Illinois             1\n",
       "Eastern Kentucky             2\n",
       "Eastern Michigan            11\n",
       "Eastern Washington           1\n",
       "Elon                         1\n",
       "Florida                     12\n",
       "Florida A&M                  1\n",
       "Florida Atlantic            11\n",
       "Florida International       11\n",
       "Florida State               12\n",
       "Fordham                      1\n",
       "Fresno State                11\n",
       "Furman                       1\n",
       "Gardner-Webb                 2\n",
       "Georgia                     12\n",
       "Georgia Southern            11\n",
       "Georgia State               11\n",
       "Georgia Tech                11\n",
       "Grambling                    1\n",
       "Hawai'i                     11\n",
       "Holy Cross                   1\n",
       "Houston                     11\n",
       "Houston Christian            1\n",
       "Howard                       1\n",
       "Idaho                        2\n",
       "Idaho State                  2\n",
       "Illinois                    11\n",
       "Illinois State               1\n",
       "Incarnate Word               1\n",
       "Indiana                     11\n",
       "Indiana State                1\n",
       "Iowa                        11\n",
       "Iowa State                  11\n",
       "Jackson State                1\n",
       "Jacksonville State          11\n",
       "James Madison               11\n",
       "Kansas                      11\n",
       "Kansas State                11\n",
       "Kennesaw State              12\n",
       "Kent State                  11\n",
       "Kentucky                    11\n",
       "LSU                         11\n",
       "Lafayette                    2\n",
       "Lamar                        1\n",
       "Liberty                     11\n",
       "Lindenwood                   2\n",
       "Long Island University       2\n",
       "Louisiana                   11\n",
       "Louisiana Tech              11\n",
       "Louisville                  11\n",
       "Maine                        2\n",
       "Marshall                    11\n",
       "Maryland                    11\n",
       "Massachusetts               11\n",
       "McNeese                      2\n",
       "Memphis                     11\n",
       "Mercer                       1\n",
       "Merrimack                    2\n",
       "Miami                       10\n",
       "Miami (OH)                  11\n",
       "Michigan                    12\n",
       "Michigan State              11\n",
       "Middle Tennessee            11\n",
       "Minnesota                   11\n",
       "Mississippi State           11\n",
       "Missouri                    11\n",
       "Missouri State              11\n",
       "Monmouth                     1\n",
       "Montana State                1\n",
       "Morgan State                 2\n",
       "Murray State                 2\n",
       "NC State                    12\n",
       "Navy                        11\n",
       "Nebraska                    11\n",
       "Nevada                      11\n",
       "New Hampshire                1\n",
       "New Mexico                  11\n",
       "New Mexico State            11\n",
       "Nicholls                     2\n",
       "Norfolk State                1\n",
       "North Alabama                1\n",
       "North Carolina              11\n",
       "North Carolina A&T           1\n",
       "North Carolina Central       1\n",
       "North Dakota                 1\n",
       "North Texas                 11\n",
       "Northern Arizona             1\n",
       "Northern Colorado            1\n",
       "Northern Illinois           11\n",
       "Northern Iowa                1\n",
       "Northwestern                11\n",
       "Northwestern State           2\n",
       "Notre Dame                  11\n",
       "Ohio                        11\n",
       "Ohio State                  11\n",
       "Oklahoma                    11\n",
       "Oklahoma State              11\n",
       "Old Dominion                11\n",
       "Ole Miss                    11\n",
       "Oregon                      11\n",
       "Oregon State                12\n",
       "Penn State                  11\n",
       "Pittsburgh                  10\n",
       "Portland State               2\n",
       "Prairie View A&M             1\n",
       "Purdue                      11\n",
       "Rhode Island                 1\n",
       "Rice                        11\n",
       "Richmond                     1\n",
       "Robert Morris                1\n",
       "Rutgers                     11\n",
       "SE Louisiana                 2\n",
       "SMU                         12\n",
       "Sacramento State             1\n",
       "Saint Francis                2\n",
       "Sam Houston                 12\n",
       "Samford                      2\n",
       "San Diego State             11\n",
       "San José State              11\n",
       "South Alabama               11\n",
       "South Carolina              11\n",
       "South Carolina State         2\n",
       "South Dakota                 1\n",
       "South Florida               11\n",
       "Southeast Missouri State     1\n",
       "Southern                     1\n",
       "Southern Illinois            1\n",
       "Southern Miss               11\n",
       "Stanford                    12\n",
       "Stephen F. Austin            1\n",
       "Stony Brook                  1\n",
       "Syracuse                    11\n",
       "TCU                         11\n",
       "Tarleton State               1\n",
       "Temple                      11\n",
       "Tennessee                   11\n",
       "Tennessee Tech               1\n",
       "Texas                       12\n",
       "Texas A&M                   12\n",
       "Texas Southern               1\n",
       "Texas State                 11\n",
       "Texas Tech                  11\n",
       "The Citadel                  1\n",
       "Toledo                      11\n",
       "Towson                       1\n",
       "Troy                        11\n",
       "Tulane                      12\n",
       "Tulsa                       11\n",
       "UAB                         11\n",
       "UAlbany                      1\n",
       "UC Davis                     1\n",
       "UCF                         11\n",
       "UCLA                        12\n",
       "UConn                       11\n",
       "UL Monroe                   11\n",
       "UNLV                        11\n",
       "USC                         12\n",
       "UT Martin                    3\n",
       "UTEP                        11\n",
       "UTSA                        11\n",
       "Utah                        11\n",
       "Utah State                  11\n",
       "VMI                          1\n",
       "Vanderbilt                  11\n",
       "Villanova                    1\n",
       "Virginia                    11\n",
       "Virginia Tech               12\n",
       "Wagner                       2\n",
       "Wake Forest                 10\n",
       "Washington                  11\n",
       "Washington State            11\n",
       "Weber State                  2\n",
       "West Virginia               11\n",
       "Western Carolina             2\n",
       "Western Illinois             2\n",
       "Western Kentucky            11\n",
       "Western Michigan            11\n",
       "William & Mary               1\n",
       "Wisconsin                   12\n",
       "Wofford                      1\n",
       "Wyoming                     11\n",
       "Youngstown State             1\n",
       "Name: count, dtype: int64"
      ]
     },
     "execution_count": 11,
     "metadata": {},
     "output_type": "execute_result"
    }
   ],
   "source": [
    "df['opponent'].value_counts().sort_index()"
   ]
  },
  {
   "cell_type": "code",
   "execution_count": 13,
   "id": "f18b166f",
   "metadata": {},
   "outputs": [
    {
     "data": {
      "text/plain": [
       "['Abilene Christian',\n",
       " 'Air Force',\n",
       " 'Akron',\n",
       " 'Alabama',\n",
       " 'Alabama A&M',\n",
       " 'Alabama State',\n",
       " 'Alcorn State',\n",
       " 'App State',\n",
       " 'Arizona',\n",
       " 'Arizona State',\n",
       " 'Arkansas',\n",
       " 'Arkansas State',\n",
       " 'Arkansas-Pine Bluff',\n",
       " 'Army',\n",
       " 'Auburn',\n",
       " 'Austin Peay',\n",
       " 'BYU',\n",
       " 'Ball State',\n",
       " 'Baylor',\n",
       " 'Bethune-Cookman',\n",
       " 'Boise State',\n",
       " 'Boston College',\n",
       " 'Bowling Green',\n",
       " 'Bryant',\n",
       " 'Bucknell',\n",
       " 'Buffalo',\n",
       " 'Cal Poly',\n",
       " 'California',\n",
       " 'Campbell',\n",
       " 'Central Arkansas',\n",
       " 'Central Connecticut',\n",
       " 'Central Michigan',\n",
       " 'Charleston Southern',\n",
       " 'Charlotte',\n",
       " 'Chattanooga',\n",
       " 'Cincinnati',\n",
       " 'Clemson',\n",
       " 'Coastal Carolina',\n",
       " 'Colgate',\n",
       " 'Colorado',\n",
       " 'Colorado State',\n",
       " 'Delaware',\n",
       " 'Delaware State',\n",
       " 'Duke',\n",
       " 'Duquesne',\n",
       " 'East Carolina',\n",
       " 'East Tennessee State',\n",
       " 'East Texas A&M',\n",
       " 'Eastern Illinois',\n",
       " 'Eastern Kentucky',\n",
       " 'Eastern Michigan',\n",
       " 'Eastern Washington',\n",
       " 'Elon',\n",
       " 'Florida',\n",
       " 'Florida A&M',\n",
       " 'Florida Atlantic',\n",
       " 'Florida International',\n",
       " 'Florida State',\n",
       " 'Fordham',\n",
       " 'Fresno State',\n",
       " 'Furman',\n",
       " 'Gardner-Webb',\n",
       " 'Georgia',\n",
       " 'Georgia Southern',\n",
       " 'Georgia State',\n",
       " 'Georgia Tech',\n",
       " 'Grambling',\n",
       " \"Hawai'i\",\n",
       " 'Holy Cross',\n",
       " 'Houston',\n",
       " 'Houston Christian',\n",
       " 'Howard',\n",
       " 'Idaho',\n",
       " 'Idaho State',\n",
       " 'Illinois',\n",
       " 'Illinois State',\n",
       " 'Incarnate Word',\n",
       " 'Indiana',\n",
       " 'Indiana State',\n",
       " 'Iowa',\n",
       " 'Iowa State',\n",
       " 'Jackson State',\n",
       " 'Jacksonville State',\n",
       " 'James Madison',\n",
       " 'Kansas',\n",
       " 'Kansas State',\n",
       " 'Kennesaw State',\n",
       " 'Kent State',\n",
       " 'Kentucky',\n",
       " 'LSU',\n",
       " 'Lafayette',\n",
       " 'Lamar',\n",
       " 'Liberty',\n",
       " 'Lindenwood',\n",
       " 'Long Island University',\n",
       " 'Louisiana',\n",
       " 'Louisiana Tech',\n",
       " 'Louisville',\n",
       " 'Maine',\n",
       " 'Marshall',\n",
       " 'Maryland',\n",
       " 'Massachusetts',\n",
       " 'McNeese',\n",
       " 'Memphis',\n",
       " 'Mercer',\n",
       " 'Merrimack',\n",
       " 'Miami',\n",
       " 'Miami (OH)',\n",
       " 'Michigan',\n",
       " 'Michigan State',\n",
       " 'Middle Tennessee',\n",
       " 'Minnesota',\n",
       " 'Mississippi State',\n",
       " 'Missouri',\n",
       " 'Missouri State',\n",
       " 'Monmouth',\n",
       " 'Montana State',\n",
       " 'Morgan State',\n",
       " 'Murray State',\n",
       " 'NC State',\n",
       " 'Navy',\n",
       " 'Nebraska',\n",
       " 'Nevada',\n",
       " 'New Hampshire',\n",
       " 'New Mexico',\n",
       " 'New Mexico State',\n",
       " 'Nicholls',\n",
       " 'Norfolk State',\n",
       " 'North Alabama',\n",
       " 'North Carolina',\n",
       " 'North Carolina A&T',\n",
       " 'North Carolina Central',\n",
       " 'North Dakota',\n",
       " 'North Texas',\n",
       " 'Northern Arizona',\n",
       " 'Northern Colorado',\n",
       " 'Northern Illinois',\n",
       " 'Northern Iowa',\n",
       " 'Northwestern',\n",
       " 'Northwestern State',\n",
       " 'Notre Dame',\n",
       " 'Ohio',\n",
       " 'Ohio State',\n",
       " 'Oklahoma',\n",
       " 'Oklahoma State',\n",
       " 'Old Dominion',\n",
       " 'Ole Miss',\n",
       " 'Oregon',\n",
       " 'Oregon State',\n",
       " 'Penn State',\n",
       " 'Pittsburgh',\n",
       " 'Portland State',\n",
       " 'Prairie View A&M',\n",
       " 'Purdue',\n",
       " 'Rhode Island',\n",
       " 'Rice',\n",
       " 'Richmond',\n",
       " 'Robert Morris',\n",
       " 'Rutgers',\n",
       " 'SE Louisiana',\n",
       " 'SMU',\n",
       " 'Sacramento State',\n",
       " 'Saint Francis',\n",
       " 'Sam Houston',\n",
       " 'Samford',\n",
       " 'San Diego State',\n",
       " 'San José State',\n",
       " 'South Alabama',\n",
       " 'South Carolina',\n",
       " 'South Carolina State',\n",
       " 'South Dakota',\n",
       " 'South Florida',\n",
       " 'Southeast Missouri State',\n",
       " 'Southern',\n",
       " 'Southern Illinois',\n",
       " 'Southern Miss',\n",
       " 'Stanford',\n",
       " 'Stephen F. Austin',\n",
       " 'Stony Brook',\n",
       " 'Syracuse',\n",
       " 'TCU',\n",
       " 'Tarleton State',\n",
       " 'Temple',\n",
       " 'Tennessee',\n",
       " 'Tennessee Tech',\n",
       " 'Texas',\n",
       " 'Texas A&M',\n",
       " 'Texas Southern',\n",
       " 'Texas State',\n",
       " 'Texas Tech',\n",
       " 'The Citadel',\n",
       " 'Toledo',\n",
       " 'Towson',\n",
       " 'Troy',\n",
       " 'Tulane',\n",
       " 'Tulsa',\n",
       " 'UAB',\n",
       " 'UAlbany',\n",
       " 'UC Davis',\n",
       " 'UCF',\n",
       " 'UCLA',\n",
       " 'UConn',\n",
       " 'UL Monroe',\n",
       " 'UNLV',\n",
       " 'USC',\n",
       " 'UT Martin',\n",
       " 'UTEP',\n",
       " 'UTSA',\n",
       " 'Utah',\n",
       " 'Utah State',\n",
       " 'VMI',\n",
       " 'Vanderbilt',\n",
       " 'Villanova',\n",
       " 'Virginia',\n",
       " 'Virginia Tech',\n",
       " 'Wagner',\n",
       " 'Wake Forest',\n",
       " 'Washington',\n",
       " 'Washington State',\n",
       " 'Weber State',\n",
       " 'West Virginia',\n",
       " 'Western Carolina',\n",
       " 'Western Illinois',\n",
       " 'Western Kentucky',\n",
       " 'Western Michigan',\n",
       " 'William & Mary',\n",
       " 'Wisconsin',\n",
       " 'Wofford',\n",
       " 'Wyoming',\n",
       " 'Youngstown State']"
      ]
     },
     "execution_count": 13,
     "metadata": {},
     "output_type": "execute_result"
    }
   ],
   "source": [
    "unique_opponent = df['opponent'].unique()\n",
    "unique_opponent = sorted(unique_opponent)\n",
    "unique_opponent"
   ]
  },
  {
   "cell_type": "code",
   "execution_count": 14,
   "id": "c04c0062",
   "metadata": {},
   "outputs": [
    {
     "data": {
      "text/plain": [
       "np.int64(0)"
      ]
     },
     "execution_count": 14,
     "metadata": {},
     "output_type": "execute_result"
    }
   ],
   "source": [
    "df['win_loss'].isna().sum()"
   ]
  },
  {
   "cell_type": "code",
   "execution_count": 15,
   "id": "8e110e4e",
   "metadata": {},
   "outputs": [
    {
     "data": {
      "text/plain": [
       "array(['W', 'L', 'N'], dtype=object)"
      ]
     },
     "execution_count": 15,
     "metadata": {},
     "output_type": "execute_result"
    }
   ],
   "source": [
    "df['win_loss'].unique()"
   ]
  },
  {
   "cell_type": "code",
   "execution_count": 16,
   "id": "6fa87c84",
   "metadata": {},
   "outputs": [
    {
     "data": {
      "text/plain": [
       "win_loss\n",
       "N    928\n",
       "W    410\n",
       "L    300\n",
       "Name: count, dtype: int64"
      ]
     },
     "execution_count": 16,
     "metadata": {},
     "output_type": "execute_result"
    }
   ],
   "source": [
    "df['win_loss'].value_counts()"
   ]
  },
  {
   "cell_type": "code",
   "execution_count": 17,
   "id": "8eb86a01",
   "metadata": {},
   "outputs": [
    {
     "data": {
      "text/plain": [
       "np.int64(0)"
      ]
     },
     "execution_count": 17,
     "metadata": {},
     "output_type": "execute_result"
    }
   ],
   "source": [
    "df['pass'].isna().sum()"
   ]
  },
  {
   "cell_type": "code",
   "execution_count": 18,
   "id": "31778f1d",
   "metadata": {},
   "outputs": [
    {
     "data": {
      "text/plain": [
       "array([112, 246, 278, 212,  43,  30,  63,  20,  33, 139,  54, 282, 219,\n",
       "        51, 252,  16,  22,  21,  11, 254, 226, 382, 276, 340, 180,  14,\n",
       "       368, 294, 217,  64, 218,  47, 257,  82, 188, 221, 291, 101, 161,\n",
       "       373, 178, 253, 376,  74, 322, 239, 305, 325, 207, 206, 345, 125,\n",
       "       222, 285, 248,  32, 129,  52,  36,  41, 116,  23, 534, 108, 251,\n",
       "       142, 220, 242,  25,  87,  71, 105, 209, 185,  26, 419, 440, 211,\n",
       "       250, 393, 225, 307, 321, 215, 136,  68, 268, 390, 333, 197,  89,\n",
       "        57, 109, 274, 146, 131, 170, 107, 133, 318, 104, 272,  97, 175,\n",
       "       179, 351, 234, 267, 279, 208, 245,  17,  59, 241, 138, 134, 140,\n",
       "       186, 150,   8,  60,  69, 388, 214, 230, 196, 363, 249, 163, 102,\n",
       "       172,  28, 159, 158, 204, 304, 119,  91, 132, 176, 155,  78, 270,\n",
       "       312, 265, 314,  40,  24, 389, 334, 313, 269, 366, 293,  45, 189,\n",
       "       330, 168, 228, 309, 343, 290, 287,  61, 298, 141, 187, 127, 184,\n",
       "       203, 100,  44, 152, 237, 205,  29, 121, 240, 190, 227, 130, 165,\n",
       "       191,  13, 201, 198,  10, 143, 243, 210, 157, 457,  37,  48,  93,\n",
       "       296, 328, 193, 233, 148,  83, 144,  56, 110, 183,  18,  34, 213,\n",
       "        53, 280, 223, 445, 235, 273,  88, 339, 149, 308, 162, 118,  85,\n",
       "       124, 335, 194,  77,  86,   5, 232, 126,  50, 182, 238, 137, 151,\n",
       "       316, 329, 261, 258,  75,   6, 199, 266,   7, 160, 231, 372, 247,\n",
       "       299, 324,  94,  55, 128,  67, 173, 147, 359, 275, 271, 283, 174,\n",
       "       171,  90,  66,  79, 256, 364, 115, 303, 344, 255, 103, 224, 135,\n",
       "        49, 106, 262,  38, 354, 306, 347, 326, 392,  96, 315, 341, 353,\n",
       "       244, 371, 281, 358, 200, 323, 311, 302, 114, 259, 473, 260, 295,\n",
       "         9, 166, 195, 153, 263, 236, 286, 444, 416, 229, 284, 337, 379,\n",
       "       181, 288, 289, 360, 487, 464, 169,  65, 346, 355,  95, 412, 192,\n",
       "       404, 177, 264, 164, 380, 111,  81, 401, 216, 317, 120, 117, 167,\n",
       "        84,  76,  70,  72, 483,  80,  98,  92, 348])"
      ]
     },
     "execution_count": 18,
     "metadata": {},
     "output_type": "execute_result"
    }
   ],
   "source": [
    "df['pass'].unique()"
   ]
  },
  {
   "cell_type": "code",
   "execution_count": 19,
   "id": "5546b409",
   "metadata": {},
   "outputs": [
    {
     "data": {
      "text/plain": [
       "pass\n",
       "20     51\n",
       "26     37\n",
       "14     37\n",
       "36     28\n",
       "29     26\n",
       "24     25\n",
       "28     25\n",
       "25     25\n",
       "32     23\n",
       "30     22\n",
       "18     22\n",
       "21     22\n",
       "17     21\n",
       "33     20\n",
       "9      19\n",
       "16     18\n",
       "22     18\n",
       "74     17\n",
       "52     17\n",
       "79     14\n",
       "11     14\n",
       "41     14\n",
       "67     13\n",
       "57     13\n",
       "37     12\n",
       "95     11\n",
       "8      11\n",
       "47     11\n",
       "63     10\n",
       "60     10\n",
       "13     10\n",
       "7      10\n",
       "87     10\n",
       "38     10\n",
       "97     10\n",
       "34     10\n",
       "49     10\n",
       "144     9\n",
       "45      9\n",
       "245     9\n",
       "180     9\n",
       "78      9\n",
       "51      9\n",
       "155     8\n",
       "55      8\n",
       "219     7\n",
       "223     7\n",
       "10      7\n",
       "270     7\n",
       "254     7\n",
       "125     7\n",
       "128     7\n",
       "94      7\n",
       "209     7\n",
       "148     7\n",
       "175     7\n",
       "71      7\n",
       "102     7\n",
       "237     6\n",
       "48      6\n",
       "130     6\n",
       "70      6\n",
       "218     6\n",
       "72      6\n",
       "208     6\n",
       "179     6\n",
       "279     6\n",
       "176     6\n",
       "40      6\n",
       "119     6\n",
       "91      6\n",
       "101     6\n",
       "275     6\n",
       "161     6\n",
       "90      6\n",
       "53      6\n",
       "222     6\n",
       "65      5\n",
       "106     5\n",
       "252     5\n",
       "164     5\n",
       "217     5\n",
       "188     5\n",
       "88      5\n",
       "133     5\n",
       "142     5\n",
       "170     5\n",
       "345     5\n",
       "178     5\n",
       "189     5\n",
       "134     5\n",
       "44      5\n",
       "196     5\n",
       "249     5\n",
       "59      5\n",
       "230     5\n",
       "136     5\n",
       "68      5\n",
       "61      5\n",
       "197     5\n",
       "157     5\n",
       "110     5\n",
       "199     5\n",
       "108     5\n",
       "246     4\n",
       "278     4\n",
       "257     4\n",
       "200     4\n",
       "226     4\n",
       "169     4\n",
       "305     4\n",
       "373     4\n",
       "242     4\n",
       "248     4\n",
       "6       4\n",
       "243     4\n",
       "146     4\n",
       "56      4\n",
       "225     4\n",
       "261     4\n",
       "211     4\n",
       "235     4\n",
       "213     4\n",
       "105     4\n",
       "115     4\n",
       "207     4\n",
       "247     4\n",
       "251     4\n",
       "165     4\n",
       "201     4\n",
       "227     4\n",
       "186     4\n",
       "214     4\n",
       "141     4\n",
       "163     4\n",
       "152     4\n",
       "205     4\n",
       "234     4\n",
       "290     4\n",
       "84      4\n",
       "304     4\n",
       "314     4\n",
       "265     4\n",
       "293     4\n",
       "282     4\n",
       "139     4\n",
       "43      4\n",
       "54      3\n",
       "177     3\n",
       "264     3\n",
       "172     3\n",
       "168     3\n",
       "309     3\n",
       "334     3\n",
       "117     3\n",
       "89      3\n",
       "109     3\n",
       "131     3\n",
       "83      3\n",
       "193     3\n",
       "140     3\n",
       "191     3\n",
       "143     3\n",
       "267     3\n",
       "241     3\n",
       "104     3\n",
       "272     3\n",
       "240     3\n",
       "121     3\n",
       "203     3\n",
       "274     3\n",
       "184     3\n",
       "318     3\n",
       "266     3\n",
       "285     3\n",
       "116     3\n",
       "129     3\n",
       "173     3\n",
       "232     3\n",
       "5       3\n",
       "137     3\n",
       "126     3\n",
       "307     3\n",
       "162     3\n",
       "308     3\n",
       "149     3\n",
       "112     3\n",
       "255     3\n",
       "260     3\n",
       "295     3\n",
       "153     3\n",
       "259     3\n",
       "221     3\n",
       "382     3\n",
       "276     3\n",
       "174     3\n",
       "206     3\n",
       "256     3\n",
       "364     3\n",
       "271     3\n",
       "253     3\n",
       "283     3\n",
       "220     3\n",
       "258     3\n",
       "75      3\n",
       "339     3\n",
       "298     2\n",
       "192     2\n",
       "210     2\n",
       "333     2\n",
       "198     2\n",
       "330     2\n",
       "150     2\n",
       "228     2\n",
       "287     2\n",
       "158     2\n",
       "159     2\n",
       "127     2\n",
       "76      2\n",
       "348     2\n",
       "340     2\n",
       "82      2\n",
       "229     2\n",
       "341     2\n",
       "392     2\n",
       "166     2\n",
       "92      2\n",
       "286     2\n",
       "294     2\n",
       "195     2\n",
       "80      2\n",
       "487     2\n",
       "98      2\n",
       "181     2\n",
       "263     2\n",
       "224     2\n",
       "135     2\n",
       "303     2\n",
       "114     2\n",
       "371     2\n",
       "281     2\n",
       "302     2\n",
       "160     2\n",
       "50      2\n",
       "215     2\n",
       "190     2\n",
       "100     2\n",
       "268     2\n",
       "138     2\n",
       "233     2\n",
       "390     2\n",
       "120     2\n",
       "23      2\n",
       "372     2\n",
       "534     2\n",
       "329     2\n",
       "239     2\n",
       "335     2\n",
       "231     2\n",
       "194     2\n",
       "212     2\n",
       "483     2\n",
       "86      2\n",
       "321     2\n",
       "185     2\n",
       "273     2\n",
       "250     2\n",
       "85      2\n",
       "313     1\n",
       "269     1\n",
       "312     1\n",
       "204     1\n",
       "132     1\n",
       "111     1\n",
       "81      1\n",
       "404     1\n",
       "380     1\n",
       "389     1\n",
       "366     1\n",
       "363     1\n",
       "388     1\n",
       "69      1\n",
       "187     1\n",
       "328     1\n",
       "107     1\n",
       "457     1\n",
       "93      1\n",
       "296     1\n",
       "351     1\n",
       "401     1\n",
       "167     1\n",
       "216     1\n",
       "317     1\n",
       "343     1\n",
       "322     1\n",
       "147     1\n",
       "359     1\n",
       "291     1\n",
       "325     1\n",
       "445     1\n",
       "77      1\n",
       "280     1\n",
       "419     1\n",
       "440     1\n",
       "393     1\n",
       "183     1\n",
       "376     1\n",
       "299     1\n",
       "324     1\n",
       "118     1\n",
       "124     1\n",
       "182     1\n",
       "238     1\n",
       "151     1\n",
       "316     1\n",
       "171     1\n",
       "66      1\n",
       "311     1\n",
       "244     1\n",
       "358     1\n",
       "96      1\n",
       "103     1\n",
       "323     1\n",
       "354     1\n",
       "262     1\n",
       "347     1\n",
       "306     1\n",
       "326     1\n",
       "353     1\n",
       "315     1\n",
       "344     1\n",
       "473     1\n",
       "337     1\n",
       "284     1\n",
       "64      1\n",
       "416     1\n",
       "444     1\n",
       "236     1\n",
       "368     1\n",
       "379     1\n",
       "346     1\n",
       "355     1\n",
       "360     1\n",
       "288     1\n",
       "289     1\n",
       "464     1\n",
       "412     1\n",
       "Name: count, dtype: int64"
      ]
     },
     "execution_count": 19,
     "metadata": {},
     "output_type": "execute_result"
    }
   ],
   "source": [
    "df['pass'].value_counts()"
   ]
  },
  {
   "cell_type": "code",
   "execution_count": 20,
   "id": "8599bb91",
   "metadata": {},
   "outputs": [
    {
     "data": {
      "text/plain": [
       "np.int64(0)"
      ]
     },
     "execution_count": 20,
     "metadata": {},
     "output_type": "execute_result"
    }
   ],
   "source": [
    "df['rush'].isna().sum()"
   ]
  },
  {
   "cell_type": "code",
   "execution_count": 21,
   "id": "813911fd",
   "metadata": {},
   "outputs": [
    {
     "data": {
      "text/plain": [
       "array([ 66,  72, 110, 139, 152,  43,  30,  63,  20,  33,  64,  81, 161,\n",
       "        22, 176,  16,  21,  11,  31,  76,  25,  46, 136, 180,  14, 111,\n",
       "       194,  95, 113,  98,  47,  73, 144,  80, 134, 101, 125,  51, 189,\n",
       "        85,  34,  74,  79, 151, 115,  70, 206,  42,  38,  83,  61,  23,\n",
       "        92,  32, 100, 124, 117, 127, 116,  54, 534, 137, 121, 119,  28,\n",
       "       242,  10, 154,  86,  96,  26, 135,  65,  44, 123, 171,  69,  39,\n",
       "        68,  52,  48,  55,  57,  59,  89,  41,  75, 106, 131,  90, 122,\n",
       "        67,  17, 102,  18, 108,  49,  15,   8,  60,  40, 112, 130, 249,\n",
       "        27,  97,  84,  91, 103,  78, 179,  24, 168,  36,  58,  45, 126,\n",
       "        71, 105, 104,  93, 107, 163, 141, 173,  82,  29, 167, 165, 128,\n",
       "        13, 156,  37,  50, 132,  53, 109, 148,  56, 195, 120, 147,  99,\n",
       "        94, 129, 175, 166, 114, 138,  62,   6, 204,   7, 159, 149, 199,\n",
       "       372, 143, 250, 193,  35, 140,  77, 157,  87, 345,  12,  88,  19,\n",
       "         9, 162, 142, 487, 153, 186, 146, 177, 150, 174, 264, 373, 237,\n",
       "       169, 246,   5, 275, 155, 223, 164, 245, 483, 225, 209, 133, 261,\n",
       "       191, 348, 200])"
      ]
     },
     "execution_count": 21,
     "metadata": {},
     "output_type": "execute_result"
    }
   ],
   "source": [
    "df['rush'].unique()"
   ]
  },
  {
   "cell_type": "code",
   "execution_count": 22,
   "id": "1c46b2dc",
   "metadata": {},
   "outputs": [
    {
     "data": {
      "text/plain": [
       "np.int64(928)"
      ]
     },
     "execution_count": 22,
     "metadata": {},
     "output_type": "execute_result"
    }
   ],
   "source": [
    "df['rec'].isna().sum()"
   ]
  },
  {
   "cell_type": "code",
   "execution_count": 23,
   "id": "ce6749a6",
   "metadata": {},
   "outputs": [
    {
     "data": {
      "text/plain": [
       "array([ 83.,  63., 177., 116., 166.,  nan,  47.,  28.,  99.,  65.,  16.,\n",
       "       125., 146.,  67., 165.,  98., 134., 142., 132.,  20., 140., 141.,\n",
       "        68., 105.,  78., 126.,  50., 168.,  37.,  92., 121.,  74.,  81.,\n",
       "       102.,  73.,  85., 114.,  64.,  26.,  48.,  77.,  88.,  56.,  42.,\n",
       "        33.,  61., 151.,  71., 155.,  58.,  87.,  84., 138.,  90.,  70.,\n",
       "        32.,  80.,  38.,  46.,  51., 117., 136.,  97.,  49., 161.,  69.,\n",
       "        60.,  91.,  23., 106.,  59., 122., 228.,  93.,  41., 109., 128.,\n",
       "        66., 118., 108.,  36.,  54.,  35.,  39., 120.,  89.,  79.,  55.,\n",
       "        72., 104.,  62.,  76., 131., 110.,  22., 111.,  27., 173., 112.,\n",
       "       147.,  43.,  82.,  95.,  75.,  52., 172.,  44., 144.,  53.,  86.,\n",
       "       186., 207.,  13.,  24., 130., 214., 103.,  94.,  34.,  29.,  19.,\n",
       "         5., 154., 135., 170., 113.,  57.,  30., 127., 107., 133.,  96.,\n",
       "        25., 123.,  40., 243., 149.,  45., 145., 157., 115., 119., 153.,\n",
       "       183., 101., 158., 179., 100., 189., 152., 254.,  21., 124., 148.])"
      ]
     },
     "execution_count": 23,
     "metadata": {},
     "output_type": "execute_result"
    }
   ],
   "source": [
    "df['rec'].unique()"
   ]
  },
  {
   "cell_type": "code",
   "execution_count": 24,
   "id": "f6efff77",
   "metadata": {},
   "outputs": [
    {
     "data": {
      "text/plain": [
       "np.int64(928)"
      ]
     },
     "execution_count": 24,
     "metadata": {},
     "output_type": "execute_result"
    }
   ],
   "source": [
    "df['points_allowed'].isna().sum()"
   ]
  },
  {
   "cell_type": "code",
   "execution_count": 25,
   "id": "79afb9ec",
   "metadata": {},
   "outputs": [
    {
     "data": {
      "text/plain": [
       "array([13., 49., 44., 34., nan, 10., 68., 31.,  7., 45., 22.,  0., 14.,\n",
       "       21., 11., 38., 47., 23., 19., 24., 15.,  6.,  3., 17., 39., 41.,\n",
       "       32., 56., 28., 30., 16., 42., 29., 27., 37., 48., 40., 35., 20.,\n",
       "       63., 54., 36., 33., 52., 55., 18., 26.,  9., 51., 46., 59., 70.,\n",
       "       12., 62., 66., 73., 25., 69., 43.])"
      ]
     },
     "execution_count": 25,
     "metadata": {},
     "output_type": "execute_result"
    }
   ],
   "source": [
    "df['points_allowed'].unique()"
   ]
  },
  {
   "cell_type": "code",
   "execution_count": 26,
   "id": "463b4f18",
   "metadata": {},
   "outputs": [
    {
     "data": {
      "text/plain": [
       "np.int64(928)"
      ]
     },
     "execution_count": 26,
     "metadata": {},
     "output_type": "execute_result"
    }
   ],
   "source": [
    "df['points_scored'].isna().sum()"
   ]
  },
  {
   "cell_type": "code",
   "execution_count": 27,
   "id": "7933928b",
   "metadata": {},
   "outputs": [
    {
     "data": {
      "text/plain": [
       "array([49., 30., 37., 35., 31., nan,  0., 28., 51.,  3., 17., 73., 38.,\n",
       "       24., 34., 20., 22., 14., 27., 40., 48., 23., 41., 52., 56., 13.,\n",
       "       42., 16., 21.,  6., 10., 25., 45.,  7., 47., 66., 26., 69., 11.,\n",
       "       70., 44., 19., 55., 29., 77., 36., 59., 43., 63., 15., 39., 46.,\n",
       "        9., 12., 54., 32., 61., 68., 33., 60., 18., 72., 67., 62.])"
      ]
     },
     "execution_count": 27,
     "metadata": {},
     "output_type": "execute_result"
    }
   ],
   "source": [
    "df['points_scored'].unique()"
   ]
  },
  {
   "cell_type": "code",
   "execution_count": 28,
   "id": "5992bb6e",
   "metadata": {},
   "outputs": [
    {
     "data": {
      "text/plain": [
       "np.int64(928)"
      ]
     },
     "execution_count": 28,
     "metadata": {},
     "output_type": "execute_result"
    }
   ],
   "source": [
    "df['point_differential'].isna().sum()"
   ]
  },
  {
   "cell_type": "code",
   "execution_count": 29,
   "id": "4ae6bc5f",
   "metadata": {},
   "outputs": [
    {
     "data": {
      "text/plain": [
       "array([ 36., -19., -12.,  -9.,  -3.,  nan, -10., -68.,  44., -42.,   6.,\n",
       "       -14.,  73.,  24.,   3.,  16.,  23.,   7., -16., -33.,   4.,  19.,\n",
       "        -4.,  34.,  45., -25.,  28.,  42.,  -6.,  -1., -43.,  18.,  -8.,\n",
       "        -7.,   1., -22.,  14.,  39., -31., -39.,   5.,  35., -27.,  37.,\n",
       "        12.,  33., -21.,  56.,  -2., -41.,  10., -23., -15., -13.,  69.,\n",
       "        21.,  32.,  13., -34., -24.,   2., -28., -60.,  11., -17., -11.,\n",
       "        70.,   8., -38., -40.,  17.,  22., -26.,  53.,  38.,  -5., -32.,\n",
       "       -29.,  55.,  74.,   9.,  49., -56., -49.,  47.,  20.,  27.,  26.,\n",
       "       -53.,  40.,  48.,  25.,  31., -47., -48., -44., -18.,  46., -36.,\n",
       "        29.,  60., -20.,  66.,  63.,  68.,  52., -35.,  51.,  43.,  15.,\n",
       "       -66.,  41.,  50., -55., -37.,  61., -73.,  54.])"
      ]
     },
     "execution_count": 29,
     "metadata": {},
     "output_type": "execute_result"
    }
   ],
   "source": [
    "df['point_differential'].unique()"
   ]
  },
  {
   "cell_type": "code",
   "execution_count": 30,
   "id": "bc85a428",
   "metadata": {},
   "outputs": [
    {
     "data": {
      "text/plain": [
       "point_differential\n",
       "-73.0     1\n",
       "-68.0     1\n",
       "-66.0     1\n",
       "-60.0     2\n",
       "-56.0     2\n",
       "-55.0     1\n",
       "-53.0     1\n",
       "-49.0     2\n",
       "-48.0     1\n",
       "-47.0     1\n",
       "-44.0     1\n",
       "-43.0     1\n",
       "-42.0     3\n",
       "-41.0     3\n",
       "-40.0     2\n",
       "-39.0     4\n",
       "-38.0     4\n",
       "-37.0     1\n",
       "-36.0     1\n",
       "-35.0     6\n",
       "-34.0     6\n",
       "-33.0     2\n",
       "-32.0     4\n",
       "-31.0     4\n",
       "-29.0     1\n",
       "-28.0     9\n",
       "-27.0     2\n",
       "-26.0     3\n",
       "-25.0     7\n",
       "-24.0    10\n",
       "-23.0     3\n",
       "-22.0     6\n",
       "-21.0     6\n",
       "-20.0     4\n",
       "-19.0     8\n",
       "-18.0     9\n",
       "-17.0    15\n",
       "-16.0     7\n",
       "-15.0     2\n",
       "-14.0    14\n",
       "-13.0     6\n",
       "-12.0     3\n",
       "-11.0     9\n",
       "-10.0    10\n",
       "-9.0      3\n",
       "-8.0      7\n",
       "-7.0     25\n",
       "-6.0     11\n",
       "-5.0      5\n",
       "-4.0      6\n",
       "-3.0     33\n",
       "-2.0      7\n",
       "-1.0     14\n",
       " 1.0     13\n",
       " 2.0      9\n",
       " 3.0     36\n",
       " 4.0      7\n",
       " 5.0      5\n",
       " 6.0     11\n",
       " 7.0     28\n",
       " 8.0      7\n",
       " 9.0      3\n",
       " 10.0    10\n",
       " 11.0     9\n",
       " 12.0     4\n",
       " 13.0     7\n",
       " 14.0    15\n",
       " 15.0     2\n",
       " 16.0     9\n",
       " 17.0    19\n",
       " 18.0    13\n",
       " 19.0    10\n",
       " 20.0     5\n",
       " 21.0     9\n",
       " 22.0     7\n",
       " 23.0     3\n",
       " 24.0    13\n",
       " 25.0     8\n",
       " 26.0     3\n",
       " 27.0     5\n",
       " 28.0    14\n",
       " 29.0     3\n",
       " 31.0     5\n",
       " 32.0    11\n",
       " 33.0     4\n",
       " 34.0     7\n",
       " 35.0    12\n",
       " 36.0     2\n",
       " 37.0     2\n",
       " 38.0     5\n",
       " 39.0     8\n",
       " 40.0     2\n",
       " 41.0     4\n",
       " 42.0     9\n",
       " 43.0     1\n",
       " 44.0     2\n",
       " 45.0     3\n",
       " 46.0     4\n",
       " 47.0     2\n",
       " 48.0     4\n",
       " 49.0     6\n",
       " 50.0     1\n",
       " 51.0     1\n",
       " 52.0     2\n",
       " 53.0     2\n",
       " 54.0     1\n",
       " 55.0     4\n",
       " 56.0     3\n",
       " 60.0     5\n",
       " 61.0     1\n",
       " 63.0     1\n",
       " 66.0     2\n",
       " 68.0     1\n",
       " 69.0     1\n",
       " 70.0     2\n",
       " 73.0     2\n",
       " 74.0     1\n",
       "Name: count, dtype: int64"
      ]
     },
     "execution_count": 30,
     "metadata": {},
     "output_type": "execute_result"
    }
   ],
   "source": [
    "df['point_differential'].value_counts().sort_index()"
   ]
  },
  {
   "cell_type": "code",
   "execution_count": 31,
   "id": "a170acba",
   "metadata": {},
   "outputs": [
    {
     "data": {
      "text/plain": [
       "np.int64(0)"
      ]
     },
     "execution_count": 31,
     "metadata": {},
     "output_type": "execute_result"
    }
   ],
   "source": [
    "df['home_game'].isna().sum()"
   ]
  },
  {
   "cell_type": "code",
   "execution_count": 32,
   "id": "94c5d1e2",
   "metadata": {},
   "outputs": [
    {
     "data": {
      "text/plain": [
       "array([ True, False])"
      ]
     },
     "execution_count": 32,
     "metadata": {},
     "output_type": "execute_result"
    }
   ],
   "source": [
    "df['home_game'].unique()"
   ]
  },
  {
   "cell_type": "code",
   "execution_count": 33,
   "id": "cbc1d012",
   "metadata": {},
   "outputs": [
    {
     "data": {
      "text/plain": [
       "home_game\n",
       "True     891\n",
       "False    747\n",
       "Name: count, dtype: int64"
      ]
     },
     "execution_count": 33,
     "metadata": {},
     "output_type": "execute_result"
    }
   ],
   "source": [
    "df['home_game'].value_counts()"
   ]
  },
  {
   "cell_type": "code",
   "execution_count": 34,
   "id": "c08aa4e9",
   "metadata": {},
   "outputs": [
    {
     "data": {
      "text/plain": [
       "np.int64(0)"
      ]
     },
     "execution_count": 34,
     "metadata": {},
     "output_type": "execute_result"
    }
   ],
   "source": [
    "df['season'].isna().sum()"
   ]
  },
  {
   "cell_type": "code",
   "execution_count": 35,
   "id": "0c5cd628",
   "metadata": {},
   "outputs": [
    {
     "data": {
      "text/plain": [
       "array([2025])"
      ]
     },
     "execution_count": 35,
     "metadata": {},
     "output_type": "execute_result"
    }
   ],
   "source": [
    "df['season'].unique()"
   ]
  },
  {
   "cell_type": "code",
   "execution_count": 36,
   "id": "e190bfbe",
   "metadata": {},
   "outputs": [
    {
     "data": {
      "text/plain": [
       "np.int64(0)"
      ]
     },
     "execution_count": 36,
     "metadata": {},
     "output_type": "execute_result"
    }
   ],
   "source": [
    "df['CONF'].isna().sum()"
   ]
  },
  {
   "cell_type": "code",
   "execution_count": 37,
   "id": "fc7690de",
   "metadata": {},
   "outputs": [
    {
     "data": {
      "text/plain": [
       "array(['Mountain West', 'MAC', 'SEC', 'Sun Belt', 'Big 12', 'American',\n",
       "       'ACC', 'CUSA', 'Big Ten', 'FBS Indep.', 'Pac-12'], dtype=object)"
      ]
     },
     "execution_count": 37,
     "metadata": {},
     "output_type": "execute_result"
    }
   ],
   "source": [
    "df['CONF'].unique()"
   ]
  },
  {
   "cell_type": "code",
   "execution_count": 38,
   "id": "738370ed",
   "metadata": {},
   "outputs": [
    {
     "data": {
      "text/plain": [
       "np.int64(0)"
      ]
     },
     "execution_count": 38,
     "metadata": {},
     "output_type": "execute_result"
    }
   ],
   "source": [
    "df['SOR'].isna().sum()"
   ]
  },
  {
   "cell_type": "code",
   "execution_count": 39,
   "id": "feced063",
   "metadata": {},
   "outputs": [
    {
     "data": {
      "text/plain": [
       "array([130, 122,  10,  89,  24,  40,  76, 119,  94,  33,  95,  47,  58,\n",
       "       127,  98, 116,  13,  61,  96, 131,  20,  86,  92, 103, 129,  87,\n",
       "        49,  69, 133, 109,  53, 110,  36,  42,  12,  93, 118,  11,  75,\n",
       "        38,   9,   8,  46,  22, 113,  50,  48, 105,  78, 117,  60, 123,\n",
       "       115,  45,  37,  16, 114,  44, 134,  18, 104,   2,  52,  17, 128,\n",
       "        59,  41,  97,  14,  39,  51,  29, 124,  67,  99, 100,  25, 125,\n",
       "        63,  31,  85,   3,   6, 121,  32,   5,   4,  79,  81,  77, 112,\n",
       "        71,  62, 108,  64, 132,  43,  19,  82,  83,  56,  30,  68,  27,\n",
       "         1,  55,  80,   7,  90,  70,  23, 120, 111,  72, 106,  91,  66,\n",
       "        26,  34,  57,  35, 126, 102,  15,  28, 101,  73,  21,  65,  84,\n",
       "        54,  88,  74, 107])"
      ]
     },
     "execution_count": 39,
     "metadata": {},
     "output_type": "execute_result"
    }
   ],
   "source": [
    "df['SOR'].unique()"
   ]
  },
  {
   "cell_type": "code",
   "execution_count": 40,
   "id": "3aab93fd",
   "metadata": {},
   "outputs": [
    {
     "data": {
      "text/plain": [
       "np.int64(0)"
      ]
     },
     "execution_count": 40,
     "metadata": {},
     "output_type": "execute_result"
    }
   ],
   "source": [
    "df['FPI'].isna().sum()"
   ]
  },
  {
   "cell_type": "code",
   "execution_count": 41,
   "id": "94fdf2e7",
   "metadata": {},
   "outputs": [
    {
     "data": {
      "text/plain": [
       "array([103, 133,   3, 109,  34,  47,  41, 114,  88,  23, 120,  43,  52,\n",
       "        82,  95, 115,  20,  79, 126, 132,  38,  40, 122,  59, 112, 104,\n",
       "        33,  56, 127, 107,  26, 129,  24,  80,   6, 105, 121,  42, 102,\n",
       "        63,  28,   4,  35,  31,  97,  64,  30,  44, 118, 136,  50, 110,\n",
       "       106,  76,  37,  17,  93,  53, 135,  32,  87,   9,  61,  12, 131,\n",
       "        66,  45, 119,  18,  73,  58,  22, 123,  83, 130,  98,  60, 111,\n",
       "        67,   5,  74,   1,  15, 113,  46,   7,   2,  96,  19,  48,  70,\n",
       "       117,  51, 134,  85,  91,  39, 100,  29,  49,  89,  86,  69,  25,\n",
       "        92,  11,  13,   8,  71,  14,  62,  90,  57, 128, 125,  55,  78,\n",
       "        72, 124,  65,  10,  75,  21, 116,  84,  16,  36,  68,  81,  27,\n",
       "       101,  77,  94,  99,  54, 108])"
      ]
     },
     "execution_count": 41,
     "metadata": {},
     "output_type": "execute_result"
    }
   ],
   "source": [
    "df['FPI'].unique()"
   ]
  },
  {
   "cell_type": "code",
   "execution_count": 42,
   "id": "50136651",
   "metadata": {},
   "outputs": [
    {
     "data": {
      "text/plain": [
       "np.int64(0)"
      ]
     },
     "execution_count": 42,
     "metadata": {},
     "output_type": "execute_result"
    }
   ],
   "source": [
    "df['AP/CFP'].isna().sum()"
   ]
  },
  {
   "cell_type": "code",
   "execution_count": 43,
   "id": "34c61378",
   "metadata": {},
   "outputs": [
    {
     "data": {
      "text/plain": [
       "array(['--', '8', '21', '18', '25', '10', '13', '17', '7', '22', '11',\n",
       "       '23', '2', '15', '14', '16', '1', '6', '4', '3', '24', '12', '5',\n",
       "       '9', '20', '19'], dtype=object)"
      ]
     },
     "execution_count": 43,
     "metadata": {},
     "output_type": "execute_result"
    }
   ],
   "source": [
    "df['AP/CFP'].unique()"
   ]
  },
  {
   "cell_type": "code",
   "execution_count": 44,
   "id": "8d0bbfb9",
   "metadata": {},
   "outputs": [
    {
     "data": {
      "text/plain": [
       "np.int64(0)"
      ]
     },
     "execution_count": 44,
     "metadata": {},
     "output_type": "execute_result"
    }
   ],
   "source": [
    "df['SOS'].isna().sum()"
   ]
  },
  {
   "cell_type": "code",
   "execution_count": 45,
   "id": "3fa9a26e",
   "metadata": {},
   "outputs": [
    {
     "data": {
      "text/plain": [
       "array([117,  94,   3, 120,  49,  99,   5, 103,  84,   7,  68,  59,  29,\n",
       "        95,  60, 130, 105, 112,  63, 126,  38,  58,  71,  42, 100, 123,\n",
       "        77,  93, 118, 108,   1,  76,  10, 111,  11,  36,   9, 102, 114,\n",
       "        88,  12,  70,  27,  67, 119, 116,  50,  56,  55,   2,   4, 104,\n",
       "        89,  86,  92,  17,  62, 113,  43, 127,  97,  15,  20,  24, 121,\n",
       "        31,  30,  41, 109, 136,  78,  69,  61,  57, 131,  80, 132, 101,\n",
       "        51,   8,  39,  34,  64,  21,  47,  44,  48,  14,  79, 122,  13,\n",
       "       128, 110,  53, 135,  54,  83,  75,  25,  26, 125,  35,  22,  72,\n",
       "        74,  45,  18,  16, 107,  81, 124,  96,  32, 106,  66,  91,  37,\n",
       "       134,  40, 133,  82,  23,  85,  52,  65,  28,  73,  46, 115,  33,\n",
       "        98,  19, 129,  87,   6,  90])"
      ]
     },
     "execution_count": 45,
     "metadata": {},
     "output_type": "execute_result"
    }
   ],
   "source": [
    "df['SOS'].unique()"
   ]
  },
  {
   "cell_type": "code",
   "execution_count": 46,
   "id": "b8bd4e90",
   "metadata": {},
   "outputs": [
    {
     "data": {
      "text/plain": [
       "np.int64(0)"
      ]
     },
     "execution_count": 46,
     "metadata": {},
     "output_type": "execute_result"
    }
   ],
   "source": [
    "df['GC'].isna().sum()"
   ]
  },
  {
   "cell_type": "code",
   "execution_count": 47,
   "id": "7d6fa2d3",
   "metadata": {},
   "outputs": [
    {
     "data": {
      "text/plain": [
       "array([127, 121,  11,  98,  43,  35,  34, 130, 104,  24, 125,  77,  47,\n",
       "        90,  96, 123,  17,  89,  99, 135,  22,  75, 116,  54, 132,  95,\n",
       "        67,  64, 133, 102,  28, 109,  27,  80,  18, 101,  84,  51,  82,\n",
       "        74,  13,   7,  42,  44, 106,  60,  32,  62,  59,  94,  50, 131,\n",
       "       128,  39,  55,  21,  76,   6, 122,  56,  86,   1,  52,  16, 136,\n",
       "        71,  29,  92,  25,  68,  61,  31, 112,  93, 113, 105,  48, 111,\n",
       "        63,   8,  70,   4,   5, 124,  15,  10,   3, 119,  53,  33,  73,\n",
       "       126,  38, 134,  78,  91,  46, 120,  40,  37,  85, 107,  81,  23,\n",
       "        97,  12,   9,  36,  69,   2,  45, 110,  30, 114, 118,  58, 108,\n",
       "        65,  88,  66,  19,  49,  26, 129,  72,  14,  20,  87,  57,  41,\n",
       "        83, 103, 115, 100,  79, 117])"
      ]
     },
     "execution_count": 47,
     "metadata": {},
     "output_type": "execute_result"
    }
   ],
   "source": [
    "df['GC'].unique()"
   ]
  },
  {
   "cell_type": "code",
   "execution_count": 48,
   "id": "7f078473",
   "metadata": {},
   "outputs": [
    {
     "data": {
      "text/plain": [
       "np.int64(0)"
      ]
     },
     "execution_count": 48,
     "metadata": {},
     "output_type": "execute_result"
    }
   ],
   "source": [
    "df['AVGWP'].isna().sum()"
   ]
  },
  {
   "cell_type": "code",
   "execution_count": 49,
   "id": "49c9ef40",
   "metadata": {},
   "outputs": [
    {
     "data": {
      "text/plain": [
       "array([112, 108,  39,  82,  58,  23,  69, 119, 111,  61, 131,  84,  66,\n",
       "        95, 110,  81,  10,  76,  99, 133,  25,  89, 123,  65, 134,  71,\n",
       "        79,  53, 128,  94,  67, 104,  41,  64,  30, 113, 117,  45,  54,\n",
       "        72,  34,   5,  60,  49,  92,  47,  33,  73,  51, 132,  86, 126,\n",
       "       118,  29,  46,  43,  70,   3, 129,  26,  87,   2,  74,  31, 135,\n",
       "        80,  35, 102,   8,  13,  56,  14, 116, 101,  78, 105,  18, 107,\n",
       "        63,  32,  75,   6,   4, 130,  15,  12,   7, 127,  37,   9,  98,\n",
       "        91,  22, 136,  40,  90,  42, 120,  59,  52,  57, 124, 106,  20,\n",
       "        96,  11,  19,  55,  62,   1,  21, 103,  44, 100, 115,  48, 125,\n",
       "        27,  88,  38,  17,  68,  24, 121,  85,  28,  16,  93,  36,  50,\n",
       "        83, 122,  77,  97, 109, 114])"
      ]
     },
     "execution_count": 49,
     "metadata": {},
     "output_type": "execute_result"
    }
   ],
   "source": [
    "df['AVGWP'].unique()"
   ]
  }
 ],
 "metadata": {
  "kernelspec": {
   "display_name": "Python 3",
   "language": "python",
   "name": "python3"
  },
  "language_info": {
   "codemirror_mode": {
    "name": "ipython",
    "version": 3
   },
   "file_extension": ".py",
   "mimetype": "text/x-python",
   "name": "python",
   "nbconvert_exporter": "python",
   "pygments_lexer": "ipython3",
   "version": "3.10.12"
  }
 },
 "nbformat": 4,
 "nbformat_minor": 5
}
